{
 "cells": [
  {
   "cell_type": "code",
   "execution_count": 1,
   "id": "initial_id",
   "metadata": {},
   "outputs": [],
   "source": [
    "from sklearn.ensemble import GradientBoostingRegressor\n",
    "import numpy as np\n",
    "import pandas as pd"
   ]
  },
  {
   "cell_type": "code",
   "execution_count": 2,
   "id": "33b8d19487dd0029",
   "metadata": {},
   "outputs": [],
   "source": [
    "train_path = '../../preprocess_train_dataset/pre08_train.csv'\n",
    "test_path = '../../preprocess_test_dataset/pre08_test.csv'\n",
    "pid_path = '../../spaceship-titanic_rawData/sample_submission.csv'\n",
    "\n",
    "train = pd.read_csv(train_path)\n",
    "test = pd.read_csv(test_path)\n",
    "pid = pd.read_csv(pid_path)\n",
    "\n",
    "train_x = train.drop('Transported', axis=1)\n",
    "train_y = train['Transported']\n",
    "sub_pid = pid['PassengerId']\n",
    "\n",
    "# Create an instance of GradientBoostingRegressor\n",
    "gb_model = GradientBoostingRegressor()\n",
    "\n",
    "# Fit the model to the preprocessed training data\n",
    "gb_model.fit(train_x, train_y)\n",
    "\n",
    "# Make predictions on the preprocessed test data using the trained models\n",
    "gb_y_pred = gb_model.predict(test)\n",
    "\n",
    "# Create a DataFrame with PassengerId and predicted target values\n",
    "gb_result = pd.DataFrame({'PassengerId': sub_pid, 'Transported': gb_y_pred})\n",
    "\n",
    "# Export the DataFrame to a CSV file\n",
    "gb_result.to_csv('../../output_prediction/gb_submission_binary_pre08.csv', index=False, index_label='PassengerId')"
   ]
  },
  {
   "cell_type": "code",
   "execution_count": 3,
   "id": "c25b6ac9",
   "metadata": {},
   "outputs": [],
   "source": [
    "# Apply a threshold to the predicted values\n",
    "threshold = 0.5  # Adjust the threshold as needed\n",
    "y_pred_binary = np.where(gb_y_pred >= threshold, True, False)\n",
    "\n",
    "# Convert the boolean predictions to \"true\" and \"false\" labels\n",
    "y_pred_labels = np.where(y_pred_binary, 'True', 'False')\n",
    "\n",
    "# Create a DataFrame with PassengerId and predicted target values\n",
    "gb_result = pd.DataFrame({'PassengerId': sub_pid, 'Transported': y_pred_labels})\n",
    "\n",
    "# Export the DataFrame to a CSV file\n",
    "gb_result.to_csv('../../output_prediction/gb_submission_pre08.csv', index=False, index_label='PassengerId')\n"
   ]
  }
 ],
 "metadata": {
  "kernelspec": {
   "display_name": "Python 3 (ipykernel)",
   "language": "python",
   "name": "python3"
  },
  "language_info": {
   "codemirror_mode": {
    "name": "ipython",
    "version": 3
   },
   "file_extension": ".py",
   "mimetype": "text/x-python",
   "name": "python",
   "nbconvert_exporter": "python",
   "pygments_lexer": "ipython3",
   "version": "3.9.12"
  }
 },
 "nbformat": 4,
 "nbformat_minor": 5
}
