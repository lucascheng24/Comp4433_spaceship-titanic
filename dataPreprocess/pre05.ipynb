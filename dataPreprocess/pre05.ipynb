{
 "cells": [
  {
   "cell_type": "code",
   "execution_count": 31,
   "metadata": {},
   "outputs": [],
   "source": [
    "# First code block is the import libraries  \n",
    "import os\n",
    "import numpy as np\n",
    "import pandas as pd\n",
    "from matplotlib import pyplot as plt\n",
    "\n",
    "pd.reset_option('^display.', silent=True)"
   ]
  },
  {
   "cell_type": "code",
   "execution_count": 14,
   "metadata": {},
   "outputs": [],
   "source": [
    "def data_splitting(df: pd.DataFrame):\n",
    "    df_new = df\n",
    "        \n",
    "    # handling the seat of passengers \n",
    "    df_new[['Cabin_deck','Cabin_num','Cabin_side']] = df['Cabin'].str.split('/',expand=True)\n",
    "\n",
    "    # handling spending of each passengers : RoomService, FoodCourt, ShoppingMall, Spa, VRDeck\n",
    "    df_new[[\"RoomService\", \"FoodCourt\", \"ShoppingMall\", \"Spa\", \"VRDeck\"]] = df[[\"RoomService\", \"FoodCourt\", \"ShoppingMall\", \"Spa\", \"VRDeck\"]].fillna(0)\n",
    "    df_new.loc[:, ['Total_spending']] = df_new['RoomService'] + df_new['FoodCourt'] + df_new['ShoppingMall'] + df_new['Spa'] + df_new['VRDeck']\n",
    "\n",
    "    if 'Transported' in df_new.columns:\n",
    "        df_processedData = df_new[\n",
    "            [   'PassengerId', 'HomePlanet', 'CryoSleep',\n",
    "                'Cabin_deck', 'Cabin_num', 'Cabin_side', \n",
    "                'Destination', 'Age',\n",
    "                'VIP', 'RoomService', 'FoodCourt', 'ShoppingMall', 'Spa', 'VRDeck', 'Total_spending',\n",
    "                'Name',\n",
    "                'Transported'\n",
    "            ]\n",
    "        ]\n",
    "    else:\n",
    "        df_processedData = df_new[\n",
    "            [   'PassengerId', 'HomePlanet', 'CryoSleep',\n",
    "                'Cabin_deck', 'Cabin_num', 'Cabin_side', \n",
    "                'Destination', 'Age',\n",
    "                'VIP', 'RoomService', 'FoodCourt', 'ShoppingMall', 'Spa', 'VRDeck', 'Total_spending',\n",
    "                'Name'\n",
    "            ]\n",
    "        ]\n",
    "    \n",
    "    return df_processedData"
   ]
  },
  {
   "cell_type": "code",
   "execution_count": 15,
   "metadata": {},
   "outputs": [],
   "source": [
    "def categorize_spending(df: pd.DataFrame):\n",
    "    df_new = df\n",
    "\n",
    "    mean_value = df_new['Total_spending'].mean()\n",
    "    std_value = df_new['Total_spending'].std()\n",
    "\n",
    "    thresholds = [\n",
    "        float('-inf'), \n",
    "        mean_value - 0.5 * std_value,\n",
    "        mean_value + 0.5 * std_value, \n",
    "        float('inf')\n",
    "    ]\n",
    "\n",
    "    df_new['spending_Categ'] = pd.cut(df['Total_spending'], bins=thresholds, labels=['Low', 'Medium', 'High'])\n",
    "\n",
    "    return df_new"
   ]
  },
  {
   "cell_type": "code",
   "execution_count": 16,
   "metadata": {},
   "outputs": [],
   "source": [
    "def dropCols(df: pd.DataFrame):\n",
    "\n",
    "    if 'Transported' in df.columns:\n",
    "        df_new = df[\n",
    "            [   'HomePlanet', 'CryoSleep',\n",
    "                'Cabin_deck', 'Cabin_side', \n",
    "                'Age',\n",
    "                'spending_Categ',\n",
    "                'Transported'\n",
    "            ]\n",
    "        ]\n",
    "    else:\n",
    "        df_new = df[\n",
    "            [   'HomePlanet', 'CryoSleep',\n",
    "                'Cabin_deck', 'Cabin_side', \n",
    "                'Age',\n",
    "                'spending_Categ'\n",
    "            ]\n",
    "        ]\n",
    "    return df_new"
   ]
  },
  {
   "cell_type": "code",
   "execution_count": 17,
   "metadata": {},
   "outputs": [],
   "source": [
    "def fill_null(df: pd.DataFrame):\n",
    "    # fill null record: HomePlanet, CryoSleep, Cabin_deck, Cabin_side, Age\n",
    "    df_new = df\n",
    "    df_new['CryoSleep'] = df['CryoSleep'].fillna(value=False)\n",
    "    df_new['Age'] = df['Age'].fillna(df['Age'].mean())\n",
    "\n",
    "\n",
    "    return df_new"
   ]
  },
  {
   "cell_type": "code",
   "execution_count": 18,
   "metadata": {},
   "outputs": [],
   "source": [
    "def oneHot(df: pd.DataFrame):\n",
    "    # apply one-hot encoding to non-numberic data\n",
    "    one_hot= pd.DataFrame()\n",
    "    df['CryoSleep'] = df['CryoSleep'].astype(bool)\n",
    "    one_hot = pd.get_dummies(df)\n",
    "\n",
    "    # reorder the dataframe\n",
    "    if 'Transported' in df.columns:\n",
    "        one_hot = one_hot[['CryoSleep', \n",
    "            'HomePlanet_Earth', 'HomePlanet_Europa', 'HomePlanet_Mars', \n",
    "            'Cabin_deck_A', 'Cabin_deck_B', 'Cabin_deck_C', \n",
    "            'Cabin_deck_D', 'Cabin_deck_E', 'Cabin_deck_F',\n",
    "            'Cabin_deck_G', 'Cabin_deck_T', \n",
    "            'Cabin_side_P', 'Cabin_side_S',\n",
    "            'Age',\n",
    "            'spending_Categ_Low', 'spending_Categ_Medium', 'spending_Categ_High',\n",
    "            'Transported'\n",
    "        ]]\n",
    "    else:\n",
    "        one_hot = one_hot[['CryoSleep', \n",
    "            'HomePlanet_Earth', 'HomePlanet_Europa', 'HomePlanet_Mars', \n",
    "            'Cabin_deck_A', 'Cabin_deck_B', 'Cabin_deck_C', \n",
    "            'Cabin_deck_D', 'Cabin_deck_E', 'Cabin_deck_F',\n",
    "            'Cabin_deck_G', 'Cabin_deck_T', \n",
    "            'Cabin_side_P', 'Cabin_side_S',\n",
    "            'Age',\n",
    "            'spending_Categ_Low', 'spending_Categ_Medium', 'spending_Categ_High'\n",
    "        ]]\n",
    "\n",
    "    return one_hot"
   ]
  },
  {
   "cell_type": "code",
   "execution_count": 19,
   "metadata": {},
   "outputs": [],
   "source": [
    "def dataProcess(df: pd.DataFrame):\n",
    "    \n",
    "    df_new = data_splitting(df)\n",
    "    df_new = categorize_spending(df_new)\n",
    "    df_new = dropCols(df_new)\n",
    "    df_new = fill_null(df_new)\n",
    "    df_new['CryoSleep'] = df_new['CryoSleep'].astype(bool) # set Na to False\n",
    "    df_new = oneHot(df_new)\n",
    "\n",
    "    return df_new"
   ]
  },
  {
   "cell_type": "code",
   "execution_count": 32,
   "metadata": {},
   "outputs": [],
   "source": [
    "rawTrain_dataPath = '../spaceship-titanic_rawData/spaceship_train.csv'\n",
    "rawTest_dataPath = '../spaceship-titanic_rawData/spaceship_test.csv'\n",
    "\n",
    "\n",
    "df_public = pd.read_csv(rawTrain_dataPath)\n",
    "df_private = pd.read_csv(rawTest_dataPath)\n",
    "\n",
    "pre_train = dataProcess(df_public)\n",
    "pre_test = dataProcess(df_private)\n",
    "\n"
   ]
  },
  {
   "cell_type": "code",
   "execution_count": 34,
   "metadata": {},
   "outputs": [],
   "source": [
    "# Export result\n",
    "filename = str(os.path.basename(globals()['__vsc_ipynb_file__'])).replace('.ipynb', '')\n",
    "\n",
    "train_export = '../preprocess_train_dataset/' + filename + '_train.csv'\n",
    "test_export = '../preprocess_test_dataset/' + filename + '_test.csv'\n",
    "\n",
    "pre_train.to_csv(train_export, sep=',', encoding='utf-8', index=False)\n",
    "pre_test.to_csv(test_export, sep=',', encoding='utf-8', index=False)"
   ]
  }
 ],
 "metadata": {
  "kernelspec": {
   "display_name": "Python 3",
   "language": "python",
   "name": "python3"
  },
  "language_info": {
   "codemirror_mode": {
    "name": "ipython",
    "version": 3
   },
   "file_extension": ".py",
   "mimetype": "text/x-python",
   "name": "python",
   "nbconvert_exporter": "python",
   "pygments_lexer": "ipython3",
   "version": "3.11.4"
  }
 },
 "nbformat": 4,
 "nbformat_minor": 2
}
