{
 "cells": [
  {
   "cell_type": "code",
   "execution_count": 55,
   "metadata": {},
   "outputs": [],
   "source": [
    "# First code block is the import libraries  \n",
    "import os\n",
    "import random\n",
    "import numpy as np\n",
    "import pandas as pd\n",
    "from matplotlib import pyplot as plt\n",
    "from sklearn.decomposition import PCA\n",
    "from sklearn.preprocessing import MinMaxScaler\n",
    "\n",
    "pd.reset_option('^display.', silent=True)"
   ]
  },
  {
   "cell_type": "code",
   "execution_count": 56,
   "metadata": {},
   "outputs": [],
   "source": [
    "def data_splitting(df: pd.DataFrame):\n",
    "    df_new = df\n",
    "        \n",
    "    # handling the seat of passengers \n",
    "    df_new[['Cabin_deck','Cabin_num','Cabin_side']] = df['Cabin'].str.split('/',expand=True)\n",
    "\n",
    "    # handling spending of each passengers : RoomService, FoodCourt, ShoppingMall, Spa, VRDeck\n",
    "    df_new[[\"RoomService\", \"FoodCourt\", \"ShoppingMall\", \"Spa\", \"VRDeck\"]] = df[[\"RoomService\", \"FoodCourt\", \"ShoppingMall\", \"Spa\", \"VRDeck\"]].fillna(0)\n",
    "    df_new.loc[:, ['Total_spending']] = df_new['RoomService'] + df_new['FoodCourt'] + df_new['ShoppingMall'] + df_new['Spa'] + df_new['VRDeck']\n",
    "\n",
    "    if 'Transported' in df_new.columns:\n",
    "        df_processedData = df_new[\n",
    "            [   'PassengerId', 'HomePlanet', 'CryoSleep',\n",
    "                'Cabin_deck', 'Cabin_num', 'Cabin_side', \n",
    "                'Destination', 'Age',\n",
    "                'VIP', 'RoomService', 'FoodCourt', 'ShoppingMall', 'Spa', 'VRDeck', 'Total_spending',\n",
    "                'Name',\n",
    "                'Transported'\n",
    "            ]\n",
    "        ]\n",
    "    else:\n",
    "        df_processedData = df_new[\n",
    "            [   'PassengerId', 'HomePlanet', 'CryoSleep',\n",
    "                'Cabin_deck', 'Cabin_num', 'Cabin_side', \n",
    "                'Destination', 'Age',\n",
    "                'VIP', 'RoomService', 'FoodCourt', 'ShoppingMall', 'Spa', 'VRDeck', 'Total_spending',\n",
    "                'Name'\n",
    "            ]\n",
    "        ]\n",
    "    \n",
    "    return df_processedData"
   ]
  },
  {
   "cell_type": "code",
   "execution_count": 80,
   "metadata": {},
   "outputs": [],
   "source": [
    "def categorize_spending(df: pd.DataFrame):\n",
    "    df_new = df\n",
    "\n",
    "    mean_value = df_new['Total_spending'].mean()\n",
    "    std_value = df_new['Total_spending'].std()\n",
    "\n",
    "    thresholds = [\n",
    "        float('-inf'), \n",
    "        mean_value - 0.5 * std_value,\n",
    "        mean_value + 0.5 * std_value, \n",
    "        float('inf')\n",
    "    ]\n",
    "\n",
    "    df_new['spending_Categ'] = pd.cut(df['Total_spending'], bins=thresholds, labels=['Low', 'Medium', 'High'])\n",
    "\n",
    "    return df_new"
   ]
  },
  {
   "cell_type": "code",
   "execution_count": 98,
   "metadata": {},
   "outputs": [],
   "source": [
    "def categorize_Age(df: pd.DataFrame):\n",
    "    df_new = df\n",
    "\n",
    "    mean_value = df_new['Age'].mean()\n",
    "    std_value = df_new['Age'].std()\n",
    "\n",
    "    thresholds = [\n",
    "        float('-inf'), \n",
    "        mean_value - 1.5 * std_value, \n",
    "        mean_value - 0.5 * std_value,\n",
    "        mean_value + 0.5 * std_value, \n",
    "        mean_value + 1.5 * std_value, \n",
    "        float('inf')\n",
    "    ]   \n",
    "\n",
    "    df_new['Age_Categ'] = pd.cut(df['Age'], bins=thresholds, labels=['VeryLow', 'Low', 'Medium', 'High', 'VeryHigh'])\n",
    "\n",
    "    return df_new"
   ]
  },
  {
   "cell_type": "code",
   "execution_count": 99,
   "metadata": {},
   "outputs": [],
   "source": [
    "def dropCols(df: pd.DataFrame):\n",
    "\n",
    "    if 'Transported' in df.columns:\n",
    "        df_new = df[\n",
    "            [   'HomePlanet', 'CryoSleep',\n",
    "                'Cabin_deck', 'Cabin_side', \n",
    "                'Age_Categ',\n",
    "                'RoomService', 'FoodCourt', 'ShoppingMall', 'Spa', 'VRDeck',\n",
    "                'spending_Categ',\n",
    "                'Transported'\n",
    "            ]\n",
    "        ]\n",
    "    else:\n",
    "        df_new = df[\n",
    "            [   'HomePlanet', 'CryoSleep',\n",
    "                'Cabin_deck', 'Cabin_side',\n",
    "                'Age_Categ',\n",
    "                'RoomService', 'FoodCourt', 'ShoppingMall', 'Spa', 'VRDeck',\n",
    "                'spending_Categ'\n",
    "            ]\n",
    "        ]\n",
    "    return df_new"
   ]
  },
  {
   "cell_type": "code",
   "execution_count": 83,
   "metadata": {},
   "outputs": [],
   "source": [
    "def fill_null(df: pd.DataFrame):\n",
    "    # fill null record: HomePlanet, CryoSleep, Cabin_deck, Cabin_side, Age\n",
    "    df_new = df\n",
    "    # df_new['Age'] = df['Age'].fillna(int(df['Age'].mean()))\n",
    "\n",
    "    # fill na value of CryoSleep\n",
    "    mapping = {\n",
    "        'High': False,\n",
    "        'Medium': False,\n",
    "        'Low': True\n",
    "    }\n",
    "    \n",
    "\n",
    "    Medium_ratio = [32.64, 1.99, 9.74]  # Ratio of Earth, Europa, Mars in Medium spending\n",
    "    Low_ratio = [20.54, 12.03, 9.57]  # Ratio of Earth, Europa, Mars in low spending\n",
    "    homePlanet_labels = ['Earth', 'Europa', 'Mars']\n",
    "\n",
    "    # Fill the missing values in 'sleep' column based on 'categ' labels\n",
    "    # df_new['CryoSleep'] = df.apply(lambda row: mapping[row['spending_Categ']] if pd.isna(row['CryoSleep']) else row['CryoSleep'], axis=1)\n",
    "\n",
    "    for index, row in df.iterrows():\n",
    "        if pd.isna(row['CryoSleep']):\n",
    "            df_new.at[index, 'CryoSleep'] = mapping[row['spending_Categ']]\n",
    "\n",
    "        if pd.isna(row['HomePlanet']):\n",
    "            spendCat = row['spending_Categ']\n",
    "\n",
    "            if spendCat == 'High':\n",
    "                df_new.at[index, 'HomePlanet'] = 'Europa'\n",
    "            elif spendCat == 'Medium':\n",
    "                df_new.at[index, 'HomePlanet'] = random.choices(homePlanet_labels, weights=Medium_ratio)[0]\n",
    "            elif spendCat == 'Low':\n",
    "                 df_new.at[index, 'HomePlanet'] = random.choices(homePlanet_labels, weights=Low_ratio)[0]\n",
    "\n",
    "    return df_new"
   ]
  },
  {
   "cell_type": "code",
   "execution_count": 104,
   "metadata": {},
   "outputs": [],
   "source": [
    "def oneHot(df: pd.DataFrame):\n",
    "    # apply one-hot encoding to non-numberic data\n",
    "    one_hot= pd.DataFrame()\n",
    "    df['CryoSleep'] = df['CryoSleep'].astype(bool)\n",
    "    one_hot = pd.get_dummies(df)\n",
    "\n",
    "    # reorder the dataframe\n",
    "    if 'Transported' in df.columns:\n",
    "        one_hot = one_hot[['CryoSleep', \n",
    "            'HomePlanet_Earth', 'HomePlanet_Europa', 'HomePlanet_Mars', \n",
    "            'Cabin_deck_A', 'Cabin_deck_B', 'Cabin_deck_C', \n",
    "            'Cabin_deck_D', 'Cabin_deck_E', 'Cabin_deck_F',\n",
    "            'Cabin_deck_G', 'Cabin_deck_T', \n",
    "            'Cabin_side_P', 'Cabin_side_S',\n",
    "            'Age_Categ_VeryLow', 'Age_Categ_Low', 'Age_Categ_Medium', 'Age_Categ_High', 'Age_Categ_VeryHigh',\n",
    "            'RoomService', 'FoodCourt', 'ShoppingMall', 'Spa', 'VRDeck',\n",
    "            'spending_Categ_Low', 'spending_Categ_Medium', 'spending_Categ_High',\n",
    "            'Transported'\n",
    "        ]]\n",
    "    else:\n",
    "        one_hot = one_hot[['CryoSleep', \n",
    "            'HomePlanet_Earth', 'HomePlanet_Europa', 'HomePlanet_Mars', \n",
    "            'Cabin_deck_A', 'Cabin_deck_B', 'Cabin_deck_C', \n",
    "            'Cabin_deck_D', 'Cabin_deck_E', 'Cabin_deck_F',\n",
    "            'Cabin_deck_G', 'Cabin_deck_T', \n",
    "            'Cabin_side_P', 'Cabin_side_S',\n",
    "            'Age_Categ_VeryLow', 'Age_Categ_Low', 'Age_Categ_Medium', 'Age_Categ_High', 'Age_Categ_VeryHigh',\n",
    "            'RoomService', 'FoodCourt', 'ShoppingMall', 'Spa', 'VRDeck',\n",
    "            'spending_Categ_Low', 'spending_Categ_Medium', 'spending_Categ_High'\n",
    "        ]]\n",
    "\n",
    "    return one_hot"
   ]
  },
  {
   "cell_type": "code",
   "execution_count": 61,
   "metadata": {},
   "outputs": [],
   "source": [
    "# normalize the data\n",
    "\n",
    "def normalize(df):\n",
    "    # age = df['Age']\n",
    "    floatCols = df.iloc[:, 4:10]\n",
    "\n",
    "    scaler = MinMaxScaler()\n",
    "    # age = scaler.fit_transform(pd.DataFrame(age))\n",
    "    temp = scaler.fit_transform(floatCols)\n",
    "\n",
    "    normalized = df\n",
    "    # normalized['Age'] = pd.DataFrame(age)\n",
    "    normalized.iloc[:, 4:10] = temp\n",
    "\n",
    "    return normalized"
   ]
  },
  {
   "cell_type": "code",
   "execution_count": 105,
   "metadata": {},
   "outputs": [],
   "source": [
    "def dataProcess(df: pd.DataFrame):\n",
    "    \n",
    "    df_new = data_splitting(df)\n",
    "    df_new = categorize_spending(df_new)\n",
    "    df_new = categorize_Age(df_new)\n",
    "    df_new = dropCols(df_new)\n",
    "    df_new = fill_null(df_new)\n",
    "    # df_new = normalize(df_new)\n",
    "    df_new = oneHot(df_new)\n",
    "\n",
    "    return df_new"
   ]
  },
  {
   "cell_type": "code",
   "execution_count": 106,
   "metadata": {},
   "outputs": [],
   "source": [
    "rawTrain_dataPath = '../spaceship-titanic_rawData/spaceship_train.csv'\n",
    "rawTest_dataPath = '../spaceship-titanic_rawData/spaceship_test.csv'\n",
    "\n",
    "\n",
    "df_public = pd.read_csv(rawTrain_dataPath)\n",
    "df_private = pd.read_csv(rawTest_dataPath)\n",
    "\n",
    "# we did not compute the normalization\n",
    "pre_train = dataProcess(df_public)\n",
    "pre_test = dataProcess(df_private)\n",
    "\n"
   ]
  },
  {
   "cell_type": "code",
   "execution_count": 108,
   "metadata": {},
   "outputs": [
    {
     "data": {
      "text/plain": [
       "Index(['CryoSleep', 'HomePlanet_Earth', 'HomePlanet_Europa', 'HomePlanet_Mars',\n",
       "       'Cabin_deck_A', 'Cabin_deck_B', 'Cabin_deck_C', 'Cabin_deck_D',\n",
       "       'Cabin_deck_E', 'Cabin_deck_F', 'Cabin_deck_G', 'Cabin_deck_T',\n",
       "       'Cabin_side_P', 'Cabin_side_S', 'Age_Categ_VeryLow', 'Age_Categ_Low',\n",
       "       'Age_Categ_Medium', 'Age_Categ_High', 'Age_Categ_VeryHigh',\n",
       "       'RoomService', 'FoodCourt', 'ShoppingMall', 'Spa', 'VRDeck',\n",
       "       'spending_Categ_Low', 'spending_Categ_Medium', 'spending_Categ_High',\n",
       "       'Transported'],\n",
       "      dtype='object')"
      ]
     },
     "execution_count": 108,
     "metadata": {},
     "output_type": "execute_result"
    }
   ],
   "source": [
    "pre_train.columns"
   ]
  },
  {
   "cell_type": "code",
   "execution_count": 109,
   "metadata": {},
   "outputs": [],
   "source": [
    "# Export result\n",
    "filename = str(os.path.basename(globals()['__vsc_ipynb_file__'])).replace('.ipynb', '')\n",
    "\n",
    "train_export = '../preprocess_train_dataset/' + filename + '_train.csv'\n",
    "test_export = '../preprocess_test_dataset/' + filename + '_test.csv'\n",
    "\n",
    "pre_train.to_csv(train_export, sep=',', encoding='utf-8', index=False)\n",
    "pre_test.to_csv(test_export, sep=',', encoding='utf-8', index=False)"
   ]
  },
  {
   "cell_type": "code",
   "execution_count": 111,
   "metadata": {},
   "outputs": [
    {
     "data": {
      "text/plain": [
       "CryoSleep                0\n",
       "HomePlanet_Earth         0\n",
       "HomePlanet_Europa        0\n",
       "HomePlanet_Mars          0\n",
       "Cabin_deck_A             0\n",
       "Cabin_deck_B             0\n",
       "Cabin_deck_C             0\n",
       "Cabin_deck_D             0\n",
       "Cabin_deck_E             0\n",
       "Cabin_deck_F             0\n",
       "Cabin_deck_G             0\n",
       "Cabin_deck_T             0\n",
       "Cabin_side_P             0\n",
       "Cabin_side_S             0\n",
       "Age_Categ_VeryLow        0\n",
       "Age_Categ_Low            0\n",
       "Age_Categ_Medium         0\n",
       "Age_Categ_High           0\n",
       "Age_Categ_VeryHigh       0\n",
       "RoomService              0\n",
       "FoodCourt                0\n",
       "ShoppingMall             0\n",
       "Spa                      0\n",
       "VRDeck                   0\n",
       "spending_Categ_Low       0\n",
       "spending_Categ_Medium    0\n",
       "spending_Categ_High      0\n",
       "dtype: int64"
      ]
     },
     "execution_count": 111,
     "metadata": {},
     "output_type": "execute_result"
    }
   ],
   "source": [
    "pre_test.isna().sum()"
   ]
  },
  {
   "cell_type": "code",
   "execution_count": 73,
   "metadata": {},
   "outputs": [
    {
     "data": {
      "text/plain": [
       "<Axes: ylabel='Density'>"
      ]
     },
     "execution_count": 73,
     "metadata": {},
     "output_type": "execute_result"
    },
    {
     "data": {
      "image/png": "[encoded data removed]",
      "text/plain": [
       "<Figure size 640x480 with 1 Axes>"
      ]
     },
     "metadata": {},
     "output_type": "display_data"
    }
   ],
   "source": [
    "pd.set_option('display.float_format', '{:.2%}'.format)\n",
    "df_public['Age'].plot(kind='kde')"
   ]
  },
  {
   "cell_type": "code",
   "execution_count": 74,
   "metadata": {},
   "outputs": [
    {
     "data": {
      "text/plain": [
       "<Axes: ylabel='Frequency'>"
      ]
     },
     "execution_count": 74,
     "metadata": {},
     "output_type": "execute_result"
    },
    {
     "data": {
      "image/png": "[encoded data removed]",
      "text/plain": [
       "<Figure size 640x480 with 1 Axes>"
      ]
     },
     "metadata": {},
     "output_type": "display_data"
    }
   ],
   "source": [
    "df_public['Age'].plot(kind='hist', edgecolor='black')"
   ]
  },
  {
   "cell_type": "code",
   "execution_count": 75,
   "metadata": {},
   "outputs": [
    {
     "name": "stdout",
     "output_type": "stream",
     "text": [
      "Age:\n",
      "\tMean:\t 28.82793046746535\n",
      "\tsd:\t 14.48902142390878\n"
     ]
    }
   ],
   "source": [
    "mean_value = df_public['Age'].mean()\n",
    "std_value = df_public['Age'].std()\n",
    "\n",
    "print(\"Age:\")\n",
    "print(\"\\tMean:\\t\", mean_value)\n",
    "print(\"\\tsd:\\t\", std_value)"
   ]
  },
  {
   "cell_type": "code",
   "execution_count": 76,
   "metadata": {},
   "outputs": [
    {
     "data": {
      "text/html": [
       "<div>\n",
       "<style scoped>\n",
       "    .dataframe tbody tr th:only-of-type {\n",
       "        vertical-align: middle;\n",
       "    }\n",
       "\n",
       "    .dataframe tbody tr th {\n",
       "        vertical-align: top;\n",
       "    }\n",
       "\n",
       "    .dataframe thead th {\n",
       "        text-align: right;\n",
       "    }\n",
       "</style>\n",
       "<table border=\"1\" class=\"dataframe\">\n",
       "  <thead>\n",
       "    <tr style=\"text-align: right;\">\n",
       "      <th></th>\n",
       "      <th></th>\n",
       "      <th>proportion</th>\n",
       "    </tr>\n",
       "    <tr>\n",
       "      <th>Age_5catg</th>\n",
       "      <th>Transported</th>\n",
       "      <th></th>\n",
       "    </tr>\n",
       "  </thead>\n",
       "  <tbody>\n",
       "    <tr>\n",
       "      <th rowspan=\"2\" valign=\"top\">Very High</th>\n",
       "      <th>True</th>\n",
       "      <td>4.19%</td>\n",
       "    </tr>\n",
       "    <tr>\n",
       "      <th>False</th>\n",
       "      <td>4.46%</td>\n",
       "    </tr>\n",
       "    <tr>\n",
       "      <th rowspan=\"2\" valign=\"top\">High</th>\n",
       "      <th>True</th>\n",
       "      <td>9.10%</td>\n",
       "    </tr>\n",
       "    <tr>\n",
       "      <th>False</th>\n",
       "      <td>9.67%</td>\n",
       "    </tr>\n",
       "    <tr>\n",
       "      <th rowspan=\"2\" valign=\"top\">Medium</th>\n",
       "      <th>True</th>\n",
       "      <td>19.18%</td>\n",
       "    </tr>\n",
       "    <tr>\n",
       "      <th>False</th>\n",
       "      <td>21.14%</td>\n",
       "    </tr>\n",
       "    <tr>\n",
       "      <th rowspan=\"2\" valign=\"top\">Low</th>\n",
       "      <th>True</th>\n",
       "      <td>12.80%</td>\n",
       "    </tr>\n",
       "    <tr>\n",
       "      <th>False</th>\n",
       "      <td>12.51%</td>\n",
       "    </tr>\n",
       "    <tr>\n",
       "      <th rowspan=\"2\" valign=\"top\">Very Low</th>\n",
       "      <th>True</th>\n",
       "      <td>5.09%</td>\n",
       "    </tr>\n",
       "    <tr>\n",
       "      <th>False</th>\n",
       "      <td>1.86%</td>\n",
       "    </tr>\n",
       "  </tbody>\n",
       "</table>\n",
       "</div>"
      ],
      "text/plain": [
       "                       proportion\n",
       "Age_5catg Transported            \n",
       "Very High True              4.19%\n",
       "          False             4.46%\n",
       "High      True              9.10%\n",
       "          False             9.67%\n",
       "Medium    True             19.18%\n",
       "          False            21.14%\n",
       "Low       True             12.80%\n",
       "          False            12.51%\n",
       "Very Low  True              5.09%\n",
       "          False             1.86%"
      ]
     },
     "execution_count": 76,
     "metadata": {},
     "output_type": "execute_result"
    }
   ],
   "source": [
    "thresholds = [\n",
    "    float('-inf'), \n",
    "    mean_value - 1.5 * std_value, \n",
    "    mean_value - 0.5 * std_value,\n",
    "    mean_value + 0.5 * std_value, \n",
    "    mean_value + 1.5 * std_value, \n",
    "    float('inf')\n",
    "]\n",
    "\n",
    "\n",
    "df_public['Age_5catg'] = pd.cut(df_public['Age'], bins=thresholds, labels=['Very Low', 'Low', 'Medium', 'High', 'Very High'])\n",
    "df_public.value_counts(['Age_5catg', 'Transported'], normalize=True).sort_index(ascending=False).to_frame()"
   ]
  },
  {
   "cell_type": "code",
   "execution_count": 79,
   "metadata": {},
   "outputs": [
    {
     "data": {
      "text/html": [
       "<div>\n",
       "<style scoped>\n",
       "    .dataframe tbody tr th:only-of-type {\n",
       "        vertical-align: middle;\n",
       "    }\n",
       "\n",
       "    .dataframe tbody tr th {\n",
       "        vertical-align: top;\n",
       "    }\n",
       "\n",
       "    .dataframe thead th {\n",
       "        text-align: right;\n",
       "    }\n",
       "</style>\n",
       "<table border=\"1\" class=\"dataframe\">\n",
       "  <thead>\n",
       "    <tr style=\"text-align: right;\">\n",
       "      <th></th>\n",
       "      <th></th>\n",
       "      <th>proportion</th>\n",
       "    </tr>\n",
       "    <tr>\n",
       "      <th>Age_5catg</th>\n",
       "      <th>Transported</th>\n",
       "      <th></th>\n",
       "    </tr>\n",
       "  </thead>\n",
       "  <tbody>\n",
       "    <tr>\n",
       "      <th rowspan=\"2\" valign=\"top\">Very High</th>\n",
       "      <th>True</th>\n",
       "      <td>7.83%</td>\n",
       "    </tr>\n",
       "    <tr>\n",
       "      <th>False</th>\n",
       "      <td>8.08%</td>\n",
       "    </tr>\n",
       "    <tr>\n",
       "      <th rowspan=\"2\" valign=\"top\">High</th>\n",
       "      <th>True</th>\n",
       "      <td>5.46%</td>\n",
       "    </tr>\n",
       "    <tr>\n",
       "      <th>False</th>\n",
       "      <td>6.05%</td>\n",
       "    </tr>\n",
       "    <tr>\n",
       "      <th rowspan=\"2\" valign=\"top\">Medium</th>\n",
       "      <th>True</th>\n",
       "      <td>19.18%</td>\n",
       "    </tr>\n",
       "    <tr>\n",
       "      <th>False</th>\n",
       "      <td>21.14%</td>\n",
       "    </tr>\n",
       "    <tr>\n",
       "      <th rowspan=\"2\" valign=\"top\">Low</th>\n",
       "      <th>True</th>\n",
       "      <td>9.51%</td>\n",
       "    </tr>\n",
       "    <tr>\n",
       "      <th>False</th>\n",
       "      <td>10.00%</td>\n",
       "    </tr>\n",
       "    <tr>\n",
       "      <th rowspan=\"2\" valign=\"top\">Very Low</th>\n",
       "      <th>True</th>\n",
       "      <td>8.37%</td>\n",
       "    </tr>\n",
       "    <tr>\n",
       "      <th>False</th>\n",
       "      <td>4.37%</td>\n",
       "    </tr>\n",
       "  </tbody>\n",
       "</table>\n",
       "</div>"
      ],
      "text/plain": [
       "                       proportion\n",
       "Age_5catg Transported            \n",
       "Very High True              7.83%\n",
       "          False             8.08%\n",
       "High      True              5.46%\n",
       "          False             6.05%\n",
       "Medium    True             19.18%\n",
       "          False            21.14%\n",
       "Low       True              9.51%\n",
       "          False            10.00%\n",
       "Very Low  True              8.37%\n",
       "          False             4.37%"
      ]
     },
     "execution_count": 79,
     "metadata": {},
     "output_type": "execute_result"
    }
   ],
   "source": [
    "thresholds = [\n",
    "    float('-inf'), \n",
    "    mean_value - 1 * std_value, \n",
    "    mean_value - 0.5 * std_value,\n",
    "    mean_value + 0.5 * std_value, \n",
    "    mean_value + 1 * std_value, \n",
    "    float('inf')\n",
    "]\n",
    "\n",
    "\n",
    "df_public['Age_5catg'] = pd.cut(df_public['Age'], bins=thresholds, labels=['Very Low', 'Low', 'Medium', 'High', 'Very High'])\n",
    "df_public.value_counts(['Age_5catg', 'Transported'], normalize=True).sort_index(ascending=False).to_frame()"
   ]
  },
  {
   "cell_type": "code",
   "execution_count": 77,
   "metadata": {},
   "outputs": [
    {
     "data": {
      "text/html": [
       "<div>\n",
       "<style scoped>\n",
       "    .dataframe tbody tr th:only-of-type {\n",
       "        vertical-align: middle;\n",
       "    }\n",
       "\n",
       "    .dataframe tbody tr th {\n",
       "        vertical-align: top;\n",
       "    }\n",
       "\n",
       "    .dataframe thead th {\n",
       "        text-align: right;\n",
       "    }\n",
       "</style>\n",
       "<table border=\"1\" class=\"dataframe\">\n",
       "  <thead>\n",
       "    <tr style=\"text-align: right;\">\n",
       "      <th></th>\n",
       "      <th></th>\n",
       "      <th>proportion</th>\n",
       "    </tr>\n",
       "    <tr>\n",
       "      <th>Age_3catg</th>\n",
       "      <th>Transported</th>\n",
       "      <th></th>\n",
       "    </tr>\n",
       "  </thead>\n",
       "  <tbody>\n",
       "    <tr>\n",
       "      <th rowspan=\"2\" valign=\"top\">High</th>\n",
       "      <th>True</th>\n",
       "      <td>13.30%</td>\n",
       "    </tr>\n",
       "    <tr>\n",
       "      <th>False</th>\n",
       "      <td>14.13%</td>\n",
       "    </tr>\n",
       "    <tr>\n",
       "      <th rowspan=\"2\" valign=\"top\">Medium</th>\n",
       "      <th>True</th>\n",
       "      <td>19.18%</td>\n",
       "    </tr>\n",
       "    <tr>\n",
       "      <th>False</th>\n",
       "      <td>21.14%</td>\n",
       "    </tr>\n",
       "    <tr>\n",
       "      <th rowspan=\"2\" valign=\"top\">Low</th>\n",
       "      <th>True</th>\n",
       "      <td>17.89%</td>\n",
       "    </tr>\n",
       "    <tr>\n",
       "      <th>False</th>\n",
       "      <td>14.36%</td>\n",
       "    </tr>\n",
       "  </tbody>\n",
       "</table>\n",
       "</div>"
      ],
      "text/plain": [
       "                       proportion\n",
       "Age_3catg Transported            \n",
       "High      True             13.30%\n",
       "          False            14.13%\n",
       "Medium    True             19.18%\n",
       "          False            21.14%\n",
       "Low       True             17.89%\n",
       "          False            14.36%"
      ]
     },
     "execution_count": 77,
     "metadata": {},
     "output_type": "execute_result"
    }
   ],
   "source": [
    "thresholds = [\n",
    "    float('-inf'), \n",
    "    mean_value - 0.5 * std_value,\n",
    "    mean_value + 0.5 * std_value, \n",
    "    float('inf')\n",
    "]\n",
    "\n",
    "\n",
    "df_public['Age_3catg'] = pd.cut(df_public['Age'], bins=thresholds, labels=['Low', 'Medium', 'High'])\n",
    "df_public.value_counts(['Age_3catg', 'Transported'], normalize=True).sort_index(ascending=False).to_frame()"
   ]
  }
 ],
 "metadata": {
  "kernelspec": {
   "display_name": "Python 3",
   "language": "python",
   "name": "python3"
  },
  "language_info": {
   "codemirror_mode": {
    "name": "ipython",
    "version": 3
   },
   "file_extension": ".py",
   "mimetype": "text/x-python",
   "name": "python",
   "nbconvert_exporter": "python",
   "pygments_lexer": "ipython3",
   "version": "3.11.4"
  }
 },
 "nbformat": 4,
 "nbformat_minor": 2
}
